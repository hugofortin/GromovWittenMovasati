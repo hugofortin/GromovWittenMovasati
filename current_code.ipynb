{
 "cells": [
  {
   "cell_type": "code",
   "execution_count": null,
   "metadata": {},
   "outputs": [],
   "source": []
  },
  {
   "cell_type": "code",
   "execution_count": 1,
   "metadata": {},
   "outputs": [],
   "source": [
    "#working over the fraction field of polynomials in 7 variables with rational coefficients\n",
    "R.<t0,t1,t2,t3,t4,t5,t6,x>=QQ[]\n",
    "F=R.fraction_field()"
   ]
  },
  {
   "cell_type": "code",
   "execution_count": 2,
   "metadata": {},
   "outputs": [],
   "source": [
    "#vector field R4 p79\n",
    "def R4(Fg):\n",
    "    return (625*t0^5-625*t4)/t5*diff(Fg,t6)"
   ]
  },
  {
   "cell_type": "code",
   "execution_count": 3,
   "metadata": {},
   "outputs": [],
   "source": [
    "#vector field R0 p79\n",
    "def R0(Fg):\n",
    "    return (3750*t0^5+t0*t3-625*t4)/t5*diff(Fg,t0)-(390625*t0^6-3125*t0^4*t1-390625*t0*t4-t1*t3)/t5*diff(Fg,t1)-(5859375*t0^7+625*t0^5*t1-6250*t0^4*t2-5859375*t0^2*t4-625*t1*t4-2*t2*t3)/t5*diff(Fg,t2)-(9765625*t0^8+625*t0^5*t2-9375*t0^4*t3-9765625*t0^3*t4-625*t2*t4-3*t2^2)/t5*diff(Fg,t3)+(15625*t0^4*t4+5*t3*t4)/t5*diff(Fg,t4)-(625*t0^5*t6-9375*t0^4*t5-2*t3*t5-625*t4*t6)/t5*diff(Fg,t5)+(9375*t0^4*t6-3125*t0^3*t5-2*t2*t5+3*t3*t6)/t5*diff(Fg,t6)"
   ]
  },
  {
   "cell_type": "code",
   "execution_count": null,
   "metadata": {},
   "outputs": [],
   "source": []
  },
  {
   "cell_type": "code",
   "execution_count": 4,
   "metadata": {
    "scrolled": true
   },
   "outputs": [],
   "source": [
    "#the data needed to start the recursion, namely F_1^{alg}\n",
    "# I have doubts on R02\n",
    "# have to write it because otherwise not a polynomial\n",
    "def F1alg_data():\n",
    "    R0F1alg=-1/12*(3750*t0^5*t6 - 353125*t0^4*t5 - 112*t3*t5 - 3750*t4*t6)/t5^2\n",
    "    R02F1alg=-1/12*(4687500*t0^10*t6^2 - 185546875*t0^9*t5*t6 - 904296875*t0^8*t5^2 + 62500*t0^5*t2*t5^2 - 55000*t0^5*t3*t5*t6 - 9375000*t0^5*t4*t6^2 - 706250*t0^4*t3*t5^2 + 185546875*t0^4*t4*t5*t6 - 199218750*t0^3*t4*t5^2 - 336*t2^2*t5^2 + 224*t3^2*t5^2 - 62500*t2*t4*t5^2 + 55000*t3*t4*t5*t6 + 4687500*t4^2*t6^2)/t5^4\n",
    "    return R0F1alg,R02F1alg"
   ]
  },
  {
   "cell_type": "code",
   "execution_count": 5,
   "metadata": {},
   "outputs": [],
   "source": [
    "# is R_0^2 refering to R0(R0(Falg)) or to something else ? "
   ]
  },
  {
   "cell_type": "code",
   "execution_count": 6,
   "metadata": {},
   "outputs": [],
   "source": [
    "R0F1alg,R02F1alg=F1alg_data()"
   ]
  },
  {
   "cell_type": "code",
   "execution_count": 7,
   "metadata": {},
   "outputs": [
    {
     "data": {
      "text/plain": [
       "(1/12) * t5^-2 * (-3750*t0^5*t6 + 353125*t0^4*t5 + 112*t3*t5 + 3750*t4*t6)"
      ]
     },
     "execution_count": 7,
     "metadata": {},
     "output_type": "execute_result"
    }
   ],
   "source": [
    "R0F1alg.factor() #this is correct"
   ]
  },
  {
   "cell_type": "code",
   "execution_count": null,
   "metadata": {},
   "outputs": [],
   "source": []
  },
  {
   "cell_type": "code",
   "execution_count": 8,
   "metadata": {},
   "outputs": [],
   "source": [
    "resF1=(1/2*(R0F1alg^2+R0(R0F1alg))).factor()"
   ]
  },
  {
   "cell_type": "code",
   "execution_count": 78,
   "metadata": {
    "scrolled": true
   },
   "outputs": [
    {
     "data": {
      "text/plain": [
       "\\left(-\\frac{1}{288}\\right) \\cdot t_{5}^{-4} \\cdot (42187500 t_{0}^{10} t_{6}^{2} + 421875000 t_{0}^{9} t_{5} t_{6} - 135548828125 t_{0}^{8} t_{5}^{2} + 750000 t_{0}^{5} t_{2} t_{5}^{2} + 180000 t_{0}^{5} t_{3} t_{5} t_{6} - 84375000 t_{0}^{5} t_{4} t_{6}^{2} - 87575000 t_{0}^{4} t_{3} t_{5}^{2} - 421875000 t_{0}^{4} t_{4} t_{5} t_{6} - 2390625000 t_{0}^{3} t_{4} t_{5}^{2} - 4032 t_{2}^{2} t_{5}^{2} - 9856 t_{3}^{2} t_{5}^{2} - 750000 t_{2} t_{4} t_{5}^{2} - 180000 t_{3} t_{4} t_{5} t_{6} + 42187500 t_{4}^{2} t_{6}^{2})"
      ]
     },
     "execution_count": 78,
     "metadata": {},
     "output_type": "execute_result"
    }
   ],
   "source": [
    "latex(resF1) # is it correct ?"
   ]
  },
  {
   "cell_type": "code",
   "execution_count": 10,
   "metadata": {},
   "outputs": [],
   "source": [
    "#notice the weird result : no factor of (t4-t0^5) in the denominator"
   ]
  },
  {
   "cell_type": "code",
   "execution_count": 65,
   "metadata": {},
   "outputs": [],
   "source": [
    "#generate the most general polynomial of appropriate degree, with weights considered\n",
    "def generate_polynomial(g):\n",
    "    result=0\n",
    "    d0=3\n",
    "    d1=6\n",
    "    d2=9\n",
    "    d3=12\n",
    "    d4=15\n",
    "    d5=11\n",
    "    d6=8\n",
    "    total_degree=69*(g-1)\n",
    "    for i0 in range(0,ceil(total_degree/d0)+1):\n",
    "        for i1 in range(0,ceil(total_degree/d1)+1):\n",
    "            for i2 in range(0,ceil(total_degree/d2)+1):\n",
    "                for i3 in range(0,ceil(total_degree/d3)+1):\n",
    "                    for i4 in range(0,ceil(total_degree/d4)+1):\n",
    "                        for i5 in range(0,ceil(total_degree/d5)+1):\n",
    "                            for i6 in range(0,ceil(total_degree/d6)+1):\n",
    "                                if (d0*i0+d1*i1+d2*i2+d3*i3+d4*i4+d5*i5+d6*i6)==(total_degree):\n",
    "                                        result+=t0^i0*t1^i1*t2^i2*t3^i3*t4^i4*t5^i5*t6^i6/((t4-t0^5)^(2*g-2)*t5^(3*g-3))\n",
    "                    \n",
    "    return result\n",
    "                                "
   ]
  },
  {
   "cell_type": "code",
   "execution_count": null,
   "metadata": {},
   "outputs": [],
   "source": []
  },
  {
   "cell_type": "code",
   "execution_count": 66,
   "metadata": {},
   "outputs": [],
   "source": [
    "#computes the RHS of the HAE, needs testing for F_3^{alg}\n",
    "def right_hand_side(Falg):\n",
    "    rhs=0\n",
    "    summ=0\n",
    "    length=len(Falg)\n",
    "    if length==0:\n",
    "        return (1/2)*(R0F1alg^2+R02F1alg)\n",
    "    else:\n",
    "        for r in range(length):\n",
    "            if r!=0 or r!=length:\n",
    "                summ+=R0(Falg[r])*R0(Falg[:-r])\n",
    "            else:\n",
    "                summ+=R0F1alg*R0(Falg[:-r])\n",
    "            rhs=summ+R0(R0(Falg[-1]))\n",
    "        return rhs"
   ]
  },
  {
   "cell_type": "code",
   "execution_count": null,
   "metadata": {},
   "outputs": [],
   "source": []
  },
  {
   "cell_type": "code",
   "execution_count": 67,
   "metadata": {},
   "outputs": [],
   "source": [
    "F2non_sorted=generate_polynomial(2)"
   ]
  },
  {
   "cell_type": "code",
   "execution_count": 80,
   "metadata": {},
   "outputs": [
    {
     "data": {
      "text/plain": [
       "t5^-3 * (-t0^5 + t4)^-2 * (t0^23 + t0^21*t1 + t0^19*t1^2 + t0^20*t2 + t0^17*t1^3 + t0^18*t1*t2 + t0^19*t3 + t0^15*t1^4 + t0^16*t1^2*t2 + t0^17*t2^2 + t0^17*t1*t3 + t0^18*t4 + t0^13*t1^5 + t0^14*t1^3*t2 + t0^15*t1*t2^2 + t0^15*t1^2*t3 + t0^16*t2*t3 + t0^16*t1*t4 + t0^15*t6^3 + t0^11*t1^6 + t0^12*t1^4*t2 + t0^13*t1^2*t2^2 + t0^14*t2^3 + t0^13*t1^3*t3 + t0^14*t1*t2*t3 + t0^15*t3^2 + t0^14*t1^2*t4 + t0^15*t2*t4 + t0^14*t5*t6^2 + t0^13*t1*t6^3 + t0^9*t1^7 + t0^10*t1^5*t2 + t0^11*t1^3*t2^2 + t0^12*t1*t2^3 + t0^11*t1^4*t3 + t0^12*t1^2*t2*t3 + t0^13*t2^2*t3 + t0^13*t1*t3^2 + t0^12*t1^3*t4 + t0^13*t1*t2*t4 + t0^14*t3*t4 + t0^13*t5^2*t6 + t0^12*t1*t5*t6^2 + t0^11*t1^2*t6^3 + t0^12*t2*t6^3 + t0^7*t1^8 + t0^8*t1^6*t2 + t0^9*t1^4*t2^2 + t0^10*t1^2*t2^3 + t0^11*t2^4 + t0^9*t1^5*t3 + t0^10*t1^3*t2*t3 + t0^11*t1*t2^2*t3 + t0^11*t1^2*t3^2 + t0^12*t2*t3^2 + t0^10*t1^4*t4 + t0^11*t1^2*t2*t4 + t0^12*t2^2*t4 + t0^12*t1*t3*t4 + t0^13*t4^2 + t0^12*t5^3 + t0^11*t1*t5^2*t6 + t0^10*t1^2*t5*t6^2 + t0^11*t2*t5*t6^2 + t0^9*t1^3*t6^3 + t0^10*t1*t2*t6^3 + t0^11*t3*t6^3 + t0^5*t1^9 + t0^6*t1^7*t2 + t0^7*t1^5*t2^2 + t0^8*t1^3*t2^3 + t0^9*t1*t2^4 + t0^7*t1^6*t3 + t0^8*t1^4*t2*t3 + t0^9*t1^2*t2^2*t3 + t0^10*t2^3*t3 + t0^9*t1^3*t3^2 + t0^10*t1*t2*t3^2 + t0^11*t3^3 + t0^8*t1^5*t4 + t0^9*t1^3*t2*t4 + t0^10*t1*t2^2*t4 + t0^10*t1^2*t3*t4 + t0^11*t2*t3*t4 + t0^11*t1*t4^2 + t0^10*t1*t5^3 + t0^9*t1^2*t5^2*t6 + t0^10*t2*t5^2*t6 + t0^8*t1^3*t5*t6^2 + t0^9*t1*t2*t5*t6^2 + t0^10*t3*t5*t6^2 + t0^7*t1^4*t6^3 + t0^8*t1^2*t2*t6^3 + t0^9*t2^2*t6^3 + t0^9*t1*t3*t6^3 + t0^10*t4*t6^3 + t0^3*t1^10 + t0^4*t1^8*t2 + t0^5*t1^6*t2^2 + t0^6*t1^4*t2^3 + t0^7*t1^2*t2^4 + t0^8*t2^5 + t0^5*t1^7*t3 + t0^6*t1^5*t2*t3 + t0^7*t1^3*t2^2*t3 + t0^8*t1*t2^3*t3 + t0^7*t1^4*t3^2 + t0^8*t1^2*t2*t3^2 + t0^9*t2^2*t3^2 + t0^9*t1*t3^3 + t0^6*t1^6*t4 + t0^7*t1^4*t2*t4 + t0^8*t1^2*t2^2*t4 + t0^9*t2^3*t4 + t0^8*t1^3*t3*t4 + t0^9*t1*t2*t3*t4 + t0^10*t3^2*t4 + t0^9*t1^2*t4^2 + t0^10*t2*t4^2 + t0^8*t1^2*t5^3 + t0^9*t2*t5^3 + t0^7*t1^3*t5^2*t6 + t0^8*t1*t2*t5^2*t6 + t0^9*t3*t5^2*t6 + t0^6*t1^4*t5*t6^2 + t0^7*t1^2*t2*t5*t6^2 + t0^8*t2^2*t5*t6^2 + t0^8*t1*t3*t5*t6^2 + t0^9*t4*t5*t6^2 + t0^5*t1^5*t6^3 + t0^6*t1^3*t2*t6^3 + t0^7*t1*t2^2*t6^3 + t0^7*t1^2*t3*t6^3 + t0^8*t2*t3*t6^3 + t0^8*t1*t4*t6^3 + t0^7*t6^6 + t0*t1^11 + t0^2*t1^9*t2 + t0^3*t1^7*t2^2 + t0^4*t1^5*t2^3 + t0^5*t1^3*t2^4 + t0^6*t1*t2^5 + t0^3*t1^8*t3 + t0^4*t1^6*t2*t3 + t0^5*t1^4*t2^2*t3 + t0^6*t1^2*t2^3*t3 + t0^7*t2^4*t3 + t0^5*t1^5*t3^2 + t0^6*t1^3*t2*t3^2 + t0^7*t1*t2^2*t3^2 + t0^7*t1^2*t3^3 + t0^8*t2*t3^3 + t0^4*t1^7*t4 + t0^5*t1^5*t2*t4 + t0^6*t1^3*t2^2*t4 + t0^7*t1*t2^3*t4 + t0^6*t1^4*t3*t4 + t0^7*t1^2*t2*t3*t4 + t0^8*t2^2*t3*t4 + t0^8*t1*t3^2*t4 + t0^7*t1^3*t4^2 + t0^8*t1*t2*t4^2 + t0^9*t3*t4^2 + t0^6*t1^3*t5^3 + t0^7*t1*t2*t5^3 + t0^8*t3*t5^3 + t0^5*t1^4*t5^2*t6 + t0^6*t1^2*t2*t5^2*t6 + t0^7*t2^2*t5^2*t6 + t0^7*t1*t3*t5^2*t6 + t0^8*t4*t5^2*t6 + t0^4*t1^5*t5*t6^2 + t0^5*t1^3*t2*t5*t6^2 + t0^6*t1*t2^2*t5*t6^2 + t0^6*t1^2*t3*t5*t6^2 + t0^7*t2*t3*t5*t6^2 + t0^7*t1*t4*t5*t6^2 + t0^3*t1^6*t6^3 + t0^4*t1^4*t2*t6^3 + t0^5*t1^2*t2^2*t6^3 + t0^6*t2^3*t6^3 + t0^5*t1^3*t3*t6^3 + t0^6*t1*t2*t3*t6^3 + t0^7*t3^2*t6^3 + t0^6*t1^2*t4*t6^3 + t0^7*t2*t4*t6^3 + t0^6*t5*t6^5 + t0^5*t1*t6^6 + t1^10*t2 + t0*t1^8*t2^2 + t0^2*t1^6*t2^3 + t0^3*t1^4*t2^4 + t0^4*t1^2*t2^5 + t0^5*t2^6 + t0*t1^9*t3 + t0^2*t1^7*t2*t3 + t0^3*t1^5*t2^2*t3 + t0^4*t1^3*t2^3*t3 + t0^5*t1*t2^4*t3 + t0^3*t1^6*t3^2 + t0^4*t1^4*t2*t3^2 + t0^5*t1^2*t2^2*t3^2 + t0^6*t2^3*t3^2 + t0^5*t1^3*t3^3 + t0^6*t1*t2*t3^3 + t0^7*t3^4 + t0^2*t1^8*t4 + t0^3*t1^6*t2*t4 + t0^4*t1^4*t2^2*t4 + t0^5*t1^2*t2^3*t4 + t0^6*t2^4*t4 + t0^4*t1^5*t3*t4 + t0^5*t1^3*t2*t3*t4 + t0^6*t1*t2^2*t3*t4 + t0^6*t1^2*t3^2*t4 + t0^7*t2*t3^2*t4 + t0^5*t1^4*t4^2 + t0^6*t1^2*t2*t4^2 + t0^7*t2^2*t4^2 + t0^7*t1*t3*t4^2 + t0^8*t4^3 + t0^4*t1^4*t5^3 + t0^5*t1^2*t2*t5^3 + t0^6*t2^2*t5^3 + t0^6*t1*t3*t5^3 + t0^7*t4*t5^3 + t0^3*t1^5*t5^2*t6 + t0^4*t1^3*t2*t5^2*t6 + t0^5*t1*t2^2*t5^2*t6 + t0^5*t1^2*t3*t5^2*t6 + t0^6*t2*t3*t5^2*t6 + t0^6*t1*t4*t5^2*t6 + t0^2*t1^6*t5*t6^2 + t0^3*t1^4*t2*t5*t6^2 + t0^4*t1^2*t2^2*t5*t6^2 + t0^5*t2^3*t5*t6^2 + t0^4*t1^3*t3*t5*t6^2 + t0^5*t1*t2*t3*t5*t6^2 + t0^6*t3^2*t5*t6^2 + t0^5*t1^2*t4*t5*t6^2 + t0^6*t2*t4*t5*t6^2 + t0*t1^7*t6^3 + t0^2*t1^5*t2*t6^3 + t0^3*t1^3*t2^2*t6^3 + t0^4*t1*t2^3*t6^3 + t0^3*t1^4*t3*t6^3 + t0^4*t1^2*t2*t3*t6^3 + t0^5*t2^2*t3*t6^3 + t0^5*t1*t3^2*t6^3 + t0^4*t1^3*t4*t6^3 + t0^5*t1*t2*t4*t6^3 + t0^6*t3*t4*t6^3 + t0^5*t5^2*t6^4 + t0^4*t1*t5*t6^5 + t0^3*t1^2*t6^6 + t0^4*t2*t6^6 + t1^7*t2^3 + t0*t1^5*t2^4 + t0^2*t1^3*t2^5 + t0^3*t1*t2^6 + t1^8*t2*t3 + t0*t1^6*t2^2*t3 + t0^2*t1^4*t2^3*t3 + t0^3*t1^2*t2^4*t3 + t0^4*t2^5*t3 + t0*t1^7*t3^2 + t0^2*t1^5*t2*t3^2 + t0^3*t1^3*t2^2*t3^2 + t0^4*t1*t2^3*t3^2 + t0^3*t1^4*t3^3 + t0^4*t1^2*t2*t3^3 + t0^5*t2^2*t3^3 + t0^5*t1*t3^4 + t1^9*t4 + t0*t1^7*t2*t4 + t0^2*t1^5*t2^2*t4 + t0^3*t1^3*t2^3*t4 + t0^4*t1*t2^4*t4 + t0^2*t1^6*t3*t4 + t0^3*t1^4*t2*t3*t4 + t0^4*t1^2*t2^2*t3*t4 + t0^5*t2^3*t3*t4 + t0^4*t1^3*t3^2*t4 + t0^5*t1*t2*t3^2*t4 + t0^6*t3^3*t4 + t0^3*t1^5*t4^2 + t0^4*t1^3*t2*t4^2 + t0^5*t1*t2^2*t4^2 + t0^5*t1^2*t3*t4^2 + t0^6*t2*t3*t4^2 + t0^6*t1*t4^3 + t0^2*t1^5*t5^3 + t0^3*t1^3*t2*t5^3 + t0^4*t1*t2^2*t5^3 + t0^4*t1^2*t3*t5^3 + t0^5*t2*t3*t5^3 + t0^5*t1*t4*t5^3 + t0*t1^6*t5^2*t6 + t0^2*t1^4*t2*t5^2*t6 + t0^3*t1^2*t2^2*t5^2*t6 + t0^4*t2^3*t5^2*t6 + t0^3*t1^3*t3*t5^2*t6 + t0^4*t1*t2*t3*t5^2*t6 + t0^5*t3^2*t5^2*t6 + t0^4*t1^2*t4*t5^2*t6 + t0^5*t2*t4*t5^2*t6 + t1^7*t5*t6^2 + t0*t1^5*t2*t5*t6^2 + t0^2*t1^3*t2^2*t5*t6^2 + t0^3*t1*t2^3*t5*t6^2 + t0^2*t1^4*t3*t5*t6^2 + t0^3*t1^2*t2*t3*t5*t6^2 + t0^4*t2^2*t3*t5*t6^2 + t0^4*t1*t3^2*t5*t6^2 + t0^3*t1^3*t4*t5*t6^2 + t0^4*t1*t2*t4*t5*t6^2 + t0^5*t3*t4*t5*t6^2 + t1^6*t2*t6^3 + t0*t1^4*t2^2*t6^3 + t0^2*t1^2*t2^3*t6^3 + t0^3*t2^4*t6^3 + t0*t1^5*t3*t6^3 + t0^2*t1^3*t2*t3*t6^3 + t0^3*t1*t2^2*t3*t6^3 + t0^3*t1^2*t3^2*t6^3 + t0^4*t2*t3^2*t6^3 + t0^2*t1^4*t4*t6^3 + t0^3*t1^2*t2*t4*t6^3 + t0^4*t2^2*t4*t6^3 + t0^4*t1*t3*t4*t6^3 + t0^5*t4^2*t6^3 + t0^4*t5^3*t6^3 + t0^3*t1*t5^2*t6^4 + t0^2*t1^2*t5*t6^5 + t0^3*t2*t5*t6^5 + t0*t1^3*t6^6 + t0^2*t1*t2*t6^6 + t0^3*t3*t6^6 + t1^4*t2^5 + t0*t1^2*t2^6 + t0^2*t2^7 + t1^5*t2^3*t3 + t0*t1^3*t2^4*t3 + t0^2*t1*t2^5*t3 + t1^6*t2*t3^2 + t0*t1^4*t2^2*t3^2 + t0^2*t1^2*t2^3*t3^2 + t0^3*t2^4*t3^2 + t0*t1^5*t3^3 + t0^2*t1^3*t2*t3^3 + t0^3*t1*t2^2*t3^3 + t0^3*t1^2*t3^4 + t0^4*t2*t3^4 + t1^6*t2^2*t4 + t0*t1^4*t2^3*t4 + t0^2*t1^2*t2^4*t4 + t0^3*t2^5*t4 + t1^7*t3*t4 + t0*t1^5*t2*t3*t4 + t0^2*t1^3*t2^2*t3*t4 + t0^3*t1*t2^3*t3*t4 + t0^2*t1^4*t3^2*t4 + t0^3*t1^2*t2*t3^2*t4 + t0^4*t2^2*t3^2*t4 + t0^4*t1*t3^3*t4 + t0*t1^6*t4^2 + t0^2*t1^4*t2*t4^2 + t0^3*t1^2*t2^2*t4^2 + t0^4*t2^3*t4^2 + t0^3*t1^3*t3*t4^2 + t0^4*t1*t2*t3*t4^2 + t0^5*t3^2*t4^2 + t0^4*t1^2*t4^3 + t0^5*t2*t4^3 + t1^6*t5^3 + t0*t1^4*t2*t5^3 + t0^2*t1^2*t2^2*t5^3 + t0^3*t2^3*t5^3 + t0^2*t1^3*t3*t5^3 + t0^3*t1*t2*t3*t5^3 + t0^4*t3^2*t5^3 + t0^3*t1^2*t4*t5^3 + t0^4*t2*t4*t5^3 + t1^5*t2*t5^2*t6 + t0*t1^3*t2^2*t5^2*t6 + t0^2*t1*t2^3*t5^2*t6 + t0*t1^4*t3*t5^2*t6 + t0^2*t1^2*t2*t3*t5^2*t6 + t0^3*t2^2*t3*t5^2*t6 + t0^3*t1*t3^2*t5^2*t6 + t0^2*t1^3*t4*t5^2*t6 + t0^3*t1*t2*t4*t5^2*t6 + t0^4*t3*t4*t5^2*t6 + t1^4*t2^2*t5*t6^2 + t0*t1^2*t2^3*t5*t6^2 + t0^2*t2^4*t5*t6^2 + t1^5*t3*t5*t6^2 + t0*t1^3*t2*t3*t5*t6^2 + t0^2*t1*t2^2*t3*t5*t6^2 + t0^2*t1^2*t3^2*t5*t6^2 + t0^3*t2*t3^2*t5*t6^2 + t0*t1^4*t4*t5*t6^2 + t0^2*t1^2*t2*t4*t5*t6^2 + t0^3*t2^2*t4*t5*t6^2 + t0^3*t1*t3*t4*t5*t6^2 + t0^4*t4^2*t5*t6^2 + t0^3*t5^4*t6^2 + t1^3*t2^3*t6^3 + t0*t1*t2^4*t6^3 + t1^4*t2*t3*t6^3 + t0*t1^2*t2^2*t3*t6^3 + t0^2*t2^3*t3*t6^3 + t0*t1^3*t3^2*t6^3 + t0^2*t1*t2*t3^2*t6^3 + t0^3*t3^3*t6^3 + t1^5*t4*t6^3 + t0*t1^3*t2*t4*t6^3 + t0^2*t1*t2^2*t4*t6^3 + t0^2*t1^2*t3*t4*t6^3 + t0^3*t2*t3*t4*t6^3 + t0^3*t1*t4^2*t6^3 + t0^2*t1*t5^3*t6^3 + t0*t1^2*t5^2*t6^4 + t0^2*t2*t5^2*t6^4 + t1^3*t5*t6^5 + t0*t1*t2*t5*t6^5 + t0^2*t3*t5*t6^5 + t1^2*t2*t6^6 + t0*t2^2*t6^6 + t0*t1*t3*t6^6 + t0^2*t4*t6^6 + t1*t2^7 + t1^2*t2^5*t3 + t0*t2^6*t3 + t1^3*t2^3*t3^2 + t0*t1*t2^4*t3^2 + t1^4*t2*t3^3 + t0*t1^2*t2^2*t3^3 + t0^2*t2^3*t3^3 + t0*t1^3*t3^4 + t0^2*t1*t2*t3^4 + t0^3*t3^5 + t1^3*t2^4*t4 + t0*t1*t2^5*t4 + t1^4*t2^2*t3*t4 + t0*t1^2*t2^3*t3*t4 + t0^2*t2^4*t3*t4 + t1^5*t3^2*t4 + t0*t1^3*t2*t3^2*t4 + t0^2*t1*t2^2*t3^2*t4 + t0^2*t1^2*t3^3*t4 + t0^3*t2*t3^3*t4 + t1^5*t2*t4^2 + t0*t1^3*t2^2*t4^2 + t0^2*t1*t2^3*t4^2 + t0*t1^4*t3*t4^2 + t0^2*t1^2*t2*t3*t4^2 + t0^3*t2^2*t3*t4^2 + t0^3*t1*t3^2*t4^2 + t0^2*t1^3*t4^3 + t0^3*t1*t2*t4^3 + t0^4*t3*t4^3 + t1^3*t2^2*t5^3 + t0*t1*t2^3*t5^3 + t1^4*t3*t5^3 + t0*t1^2*t2*t3*t5^3 + t0^2*t2^2*t3*t5^3 + t0^2*t1*t3^2*t5^3 + t0*t1^3*t4*t5^3 + t0^2*t1*t2*t4*t5^3 + t0^3*t3*t4*t5^3 + t1^2*t2^3*t5^2*t6 + t0*t2^4*t5^2*t6 + t1^3*t2*t3*t5^2*t6 + t0*t1*t2^2*t3*t5^2*t6 + t0*t1^2*t3^2*t5^2*t6 + t0^2*t2*t3^2*t5^2*t6 + t1^4*t4*t5^2*t6 + t0*t1^2*t2*t4*t5^2*t6 + t0^2*t2^2*t4*t5^2*t6 + t0^2*t1*t3*t4*t5^2*t6 + t0^3*t4^2*t5^2*t6 + t0^2*t5^5*t6 + t1*t2^4*t5*t6^2 + t1^2*t2^2*t3*t5*t6^2 + t0*t2^3*t3*t5*t6^2 + t1^3*t3^2*t5*t6^2 + t0*t1*t2*t3^2*t5*t6^2 + t0^2*t3^3*t5*t6^2 + t1^3*t2*t4*t5*t6^2 + t0*t1*t2^2*t4*t5*t6^2 + t0*t1^2*t3*t4*t5*t6^2 + t0^2*t2*t3*t4*t5*t6^2 + t0^2*t1*t4^2*t5*t6^2 + t0*t1*t5^4*t6^2 + t2^5*t6^3 + t1*t2^3*t3*t6^3 + t1^2*t2*t3^2*t6^3 + t0*t2^2*t3^2*t6^3 + t0*t1*t3^3*t6^3 + t1^2*t2^2*t4*t6^3 + t0*t2^3*t4*t6^3 + t1^3*t3*t4*t6^3 + t0*t1*t2*t3*t4*t6^3 + t0^2*t3^2*t4*t6^3 + t0*t1^2*t4^2*t6^3 + t0^2*t2*t4^2*t6^3 + t1^2*t5^3*t6^3 + t0*t2*t5^3*t6^3 + t1*t2*t5^2*t6^4 + t0*t3*t5^2*t6^4 + t2^2*t5*t6^5 + t1*t3*t5*t6^5 + t0*t4*t5*t6^5 + t2*t3*t6^6 + t1*t4*t6^6 + t2^5*t3^2 + t1*t2^3*t3^3 + t1^2*t2*t3^4 + t0*t2^2*t3^4 + t0*t1*t3^5 + t2^6*t4 + t1*t2^4*t3*t4 + t1^2*t2^2*t3^2*t4 + t0*t2^3*t3^2*t4 + t1^3*t3^3*t4 + t0*t1*t2*t3^3*t4 + t0^2*t3^4*t4 + t1^2*t2^3*t4^2 + t0*t2^4*t4^2 + t1^3*t2*t3*t4^2 + t0*t1*t2^2*t3*t4^2 + t0*t1^2*t3^2*t4^2 + t0^2*t2*t3^2*t4^2 + t1^4*t4^3 + t0*t1^2*t2*t4^3 + t0^2*t2^2*t4^3 + t0^2*t1*t3*t4^3 + t0^3*t4^4 + t2^4*t5^3 + t1*t2^2*t3*t5^3 + t1^2*t3^2*t5^3 + t0*t2*t3^2*t5^3 + t1^2*t2*t4*t5^3 + t0*t2^2*t4*t5^3 + t0*t1*t3*t4*t5^3 + t0^2*t4^2*t5^3 + t0*t5^6 + t2^3*t3*t5^2*t6 + t1*t2*t3^2*t5^2*t6 + t0*t3^3*t5^2*t6 + t1*t2^2*t4*t5^2*t6 + t1^2*t3*t4*t5^2*t6 + t0*t2*t3*t4*t5^2*t6 + t0*t1*t4^2*t5^2*t6 + t1*t5^5*t6 + t2^2*t3^2*t5*t6^2 + t1*t3^3*t5*t6^2 + t2^3*t4*t5*t6^2 + t1*t2*t3*t4*t5*t6^2 + t0*t3^2*t4*t5*t6^2 + t1^2*t4^2*t5*t6^2 + t0*t2*t4^2*t5*t6^2 + t2*t5^4*t6^2 + t2*t3^3*t6^3 + t2^2*t3*t4*t6^3 + t1*t3^2*t4*t6^3 + t1*t2*t4^2*t6^3 + t0*t3*t4^2*t6^3 + t3*t5^3*t6^3 + t4*t5^2*t6^4 + t2*t3^5 + t2^2*t3^3*t4 + t1*t3^4*t4 + t2^3*t3*t4^2 + t1*t2*t3^2*t4^2 + t0*t3^3*t4^2 + t1*t2^2*t4^3 + t1^2*t3*t4^3 + t0*t2*t3*t4^3 + t0*t1*t4^4 + t3^3*t5^3 + t2*t3*t4*t5^3 + t1*t4^2*t5^3 + t3^2*t4*t5^2*t6 + t2*t4^2*t5^2*t6 + t3*t4^2*t5*t6^2 + t4^3*t6^3 + t3^2*t4^3 + t2*t4^4)"
      ]
     },
     "execution_count": 80,
     "metadata": {},
     "output_type": "execute_result"
    }
   ],
   "source": [
    "F2non_sorted.factor()"
   ]
  },
  {
   "cell_type": "code",
   "execution_count": 68,
   "metadata": {},
   "outputs": [],
   "source": [
    "P=R4(F2non_sorted)"
   ]
  },
  {
   "cell_type": "code",
   "execution_count": 69,
   "metadata": {
    "scrolled": true
   },
   "outputs": [
    {
     "data": {
      "text/plain": [
       "(-625) * t5^-4 * (-t0^5 + t4)^-1 * (3*t0^15*t6^2 + 2*t0^14*t5*t6 + 3*t0^13*t1*t6^2 + t0^13*t5^2 + 2*t0^12*t1*t5*t6 + 3*t0^11*t1^2*t6^2 + 3*t0^12*t2*t6^2 + t0^11*t1*t5^2 + 2*t0^10*t1^2*t5*t6 + 2*t0^11*t2*t5*t6 + 3*t0^9*t1^3*t6^2 + 3*t0^10*t1*t2*t6^2 + 3*t0^11*t3*t6^2 + t0^9*t1^2*t5^2 + t0^10*t2*t5^2 + 2*t0^8*t1^3*t5*t6 + 2*t0^9*t1*t2*t5*t6 + 2*t0^10*t3*t5*t6 + 3*t0^7*t1^4*t6^2 + 3*t0^8*t1^2*t2*t6^2 + 3*t0^9*t2^2*t6^2 + 3*t0^9*t1*t3*t6^2 + 3*t0^10*t4*t6^2 + t0^7*t1^3*t5^2 + t0^8*t1*t2*t5^2 + t0^9*t3*t5^2 + 2*t0^6*t1^4*t5*t6 + 2*t0^7*t1^2*t2*t5*t6 + 2*t0^8*t2^2*t5*t6 + 2*t0^8*t1*t3*t5*t6 + 2*t0^9*t4*t5*t6 + 3*t0^5*t1^5*t6^2 + 3*t0^6*t1^3*t2*t6^2 + 3*t0^7*t1*t2^2*t6^2 + 3*t0^7*t1^2*t3*t6^2 + 3*t0^8*t2*t3*t6^2 + 3*t0^8*t1*t4*t6^2 + 6*t0^7*t6^5 + t0^5*t1^4*t5^2 + t0^6*t1^2*t2*t5^2 + t0^7*t2^2*t5^2 + t0^7*t1*t3*t5^2 + t0^8*t4*t5^2 + 2*t0^4*t1^5*t5*t6 + 2*t0^5*t1^3*t2*t5*t6 + 2*t0^6*t1*t2^2*t5*t6 + 2*t0^6*t1^2*t3*t5*t6 + 2*t0^7*t2*t3*t5*t6 + 2*t0^7*t1*t4*t5*t6 + 3*t0^3*t1^6*t6^2 + 3*t0^4*t1^4*t2*t6^2 + 3*t0^5*t1^2*t2^2*t6^2 + 3*t0^6*t2^3*t6^2 + 3*t0^5*t1^3*t3*t6^2 + 3*t0^6*t1*t2*t3*t6^2 + 3*t0^7*t3^2*t6^2 + 3*t0^6*t1^2*t4*t6^2 + 3*t0^7*t2*t4*t6^2 + 5*t0^6*t5*t6^4 + 6*t0^5*t1*t6^5 + t0^3*t1^5*t5^2 + t0^4*t1^3*t2*t5^2 + t0^5*t1*t2^2*t5^2 + t0^5*t1^2*t3*t5^2 + t0^6*t2*t3*t5^2 + t0^6*t1*t4*t5^2 + 2*t0^2*t1^6*t5*t6 + 2*t0^3*t1^4*t2*t5*t6 + 2*t0^4*t1^2*t2^2*t5*t6 + 2*t0^5*t2^3*t5*t6 + 2*t0^4*t1^3*t3*t5*t6 + 2*t0^5*t1*t2*t3*t5*t6 + 2*t0^6*t3^2*t5*t6 + 2*t0^5*t1^2*t4*t5*t6 + 2*t0^6*t2*t4*t5*t6 + 3*t0*t1^7*t6^2 + 3*t0^2*t1^5*t2*t6^2 + 3*t0^3*t1^3*t2^2*t6^2 + 3*t0^4*t1*t2^3*t6^2 + 3*t0^3*t1^4*t3*t6^2 + 3*t0^4*t1^2*t2*t3*t6^2 + 3*t0^5*t2^2*t3*t6^2 + 3*t0^5*t1*t3^2*t6^2 + 3*t0^4*t1^3*t4*t6^2 + 3*t0^5*t1*t2*t4*t6^2 + 3*t0^6*t3*t4*t6^2 + 4*t0^5*t5^2*t6^3 + 5*t0^4*t1*t5*t6^4 + 6*t0^3*t1^2*t6^5 + 6*t0^4*t2*t6^5 + t0*t1^6*t5^2 + t0^2*t1^4*t2*t5^2 + t0^3*t1^2*t2^2*t5^2 + t0^4*t2^3*t5^2 + t0^3*t1^3*t3*t5^2 + t0^4*t1*t2*t3*t5^2 + t0^5*t3^2*t5^2 + t0^4*t1^2*t4*t5^2 + t0^5*t2*t4*t5^2 + 2*t1^7*t5*t6 + 2*t0*t1^5*t2*t5*t6 + 2*t0^2*t1^3*t2^2*t5*t6 + 2*t0^3*t1*t2^3*t5*t6 + 2*t0^2*t1^4*t3*t5*t6 + 2*t0^3*t1^2*t2*t3*t5*t6 + 2*t0^4*t2^2*t3*t5*t6 + 2*t0^4*t1*t3^2*t5*t6 + 2*t0^3*t1^3*t4*t5*t6 + 2*t0^4*t1*t2*t4*t5*t6 + 2*t0^5*t3*t4*t5*t6 + 3*t1^6*t2*t6^2 + 3*t0*t1^4*t2^2*t6^2 + 3*t0^2*t1^2*t2^3*t6^2 + 3*t0^3*t2^4*t6^2 + 3*t0*t1^5*t3*t6^2 + 3*t0^2*t1^3*t2*t3*t6^2 + 3*t0^3*t1*t2^2*t3*t6^2 + 3*t0^3*t1^2*t3^2*t6^2 + 3*t0^4*t2*t3^2*t6^2 + 3*t0^2*t1^4*t4*t6^2 + 3*t0^3*t1^2*t2*t4*t6^2 + 3*t0^4*t2^2*t4*t6^2 + 3*t0^4*t1*t3*t4*t6^2 + 3*t0^5*t4^2*t6^2 + 3*t0^4*t5^3*t6^2 + 4*t0^3*t1*t5^2*t6^3 + 5*t0^2*t1^2*t5*t6^4 + 5*t0^3*t2*t5*t6^4 + 6*t0*t1^3*t6^5 + 6*t0^2*t1*t2*t6^5 + 6*t0^3*t3*t6^5 + t1^5*t2*t5^2 + t0*t1^3*t2^2*t5^2 + t0^2*t1*t2^3*t5^2 + t0*t1^4*t3*t5^2 + t0^2*t1^2*t2*t3*t5^2 + t0^3*t2^2*t3*t5^2 + t0^3*t1*t3^2*t5^2 + t0^2*t1^3*t4*t5^2 + t0^3*t1*t2*t4*t5^2 + t0^4*t3*t4*t5^2 + 2*t1^4*t2^2*t5*t6 + 2*t0*t1^2*t2^3*t5*t6 + 2*t0^2*t2^4*t5*t6 + 2*t1^5*t3*t5*t6 + 2*t0*t1^3*t2*t3*t5*t6 + 2*t0^2*t1*t2^2*t3*t5*t6 + 2*t0^2*t1^2*t3^2*t5*t6 + 2*t0^3*t2*t3^2*t5*t6 + 2*t0*t1^4*t4*t5*t6 + 2*t0^2*t1^2*t2*t4*t5*t6 + 2*t0^3*t2^2*t4*t5*t6 + 2*t0^3*t1*t3*t4*t5*t6 + 2*t0^4*t4^2*t5*t6 + 2*t0^3*t5^4*t6 + 3*t1^3*t2^3*t6^2 + 3*t0*t1*t2^4*t6^2 + 3*t1^4*t2*t3*t6^2 + 3*t0*t1^2*t2^2*t3*t6^2 + 3*t0^2*t2^3*t3*t6^2 + 3*t0*t1^3*t3^2*t6^2 + 3*t0^2*t1*t2*t3^2*t6^2 + 3*t0^3*t3^3*t6^2 + 3*t1^5*t4*t6^2 + 3*t0*t1^3*t2*t4*t6^2 + 3*t0^2*t1*t2^2*t4*t6^2 + 3*t0^2*t1^2*t3*t4*t6^2 + 3*t0^3*t2*t3*t4*t6^2 + 3*t0^3*t1*t4^2*t6^2 + 3*t0^2*t1*t5^3*t6^2 + 4*t0*t1^2*t5^2*t6^3 + 4*t0^2*t2*t5^2*t6^3 + 5*t1^3*t5*t6^4 + 5*t0*t1*t2*t5*t6^4 + 5*t0^2*t3*t5*t6^4 + 6*t1^2*t2*t6^5 + 6*t0*t2^2*t6^5 + 6*t0*t1*t3*t6^5 + 6*t0^2*t4*t6^5 + t1^2*t2^3*t5^2 + t0*t2^4*t5^2 + t1^3*t2*t3*t5^2 + t0*t1*t2^2*t3*t5^2 + t0*t1^2*t3^2*t5^2 + t0^2*t2*t3^2*t5^2 + t1^4*t4*t5^2 + t0*t1^2*t2*t4*t5^2 + t0^2*t2^2*t4*t5^2 + t0^2*t1*t3*t4*t5^2 + t0^3*t4^2*t5^2 + t0^2*t5^5 + 2*t1*t2^4*t5*t6 + 2*t1^2*t2^2*t3*t5*t6 + 2*t0*t2^3*t3*t5*t6 + 2*t1^3*t3^2*t5*t6 + 2*t0*t1*t2*t3^2*t5*t6 + 2*t0^2*t3^3*t5*t6 + 2*t1^3*t2*t4*t5*t6 + 2*t0*t1*t2^2*t4*t5*t6 + 2*t0*t1^2*t3*t4*t5*t6 + 2*t0^2*t2*t3*t4*t5*t6 + 2*t0^2*t1*t4^2*t5*t6 + 2*t0*t1*t5^4*t6 + 3*t2^5*t6^2 + 3*t1*t2^3*t3*t6^2 + 3*t1^2*t2*t3^2*t6^2 + 3*t0*t2^2*t3^2*t6^2 + 3*t0*t1*t3^3*t6^2 + 3*t1^2*t2^2*t4*t6^2 + 3*t0*t2^3*t4*t6^2 + 3*t1^3*t3*t4*t6^2 + 3*t0*t1*t2*t3*t4*t6^2 + 3*t0^2*t3^2*t4*t6^2 + 3*t0*t1^2*t4^2*t6^2 + 3*t0^2*t2*t4^2*t6^2 + 3*t1^2*t5^3*t6^2 + 3*t0*t2*t5^3*t6^2 + 4*t1*t2*t5^2*t6^3 + 4*t0*t3*t5^2*t6^3 + 5*t2^2*t5*t6^4 + 5*t1*t3*t5*t6^4 + 5*t0*t4*t5*t6^4 + 6*t2*t3*t6^5 + 6*t1*t4*t6^5 + t2^3*t3*t5^2 + t1*t2*t3^2*t5^2 + t0*t3^3*t5^2 + t1*t2^2*t4*t5^2 + t1^2*t3*t4*t5^2 + t0*t2*t3*t4*t5^2 + t0*t1*t4^2*t5^2 + t1*t5^5 + 2*t2^2*t3^2*t5*t6 + 2*t1*t3^3*t5*t6 + 2*t2^3*t4*t5*t6 + 2*t1*t2*t3*t4*t5*t6 + 2*t0*t3^2*t4*t5*t6 + 2*t1^2*t4^2*t5*t6 + 2*t0*t2*t4^2*t5*t6 + 2*t2*t5^4*t6 + 3*t2*t3^3*t6^2 + 3*t2^2*t3*t4*t6^2 + 3*t1*t3^2*t4*t6^2 + 3*t1*t2*t4^2*t6^2 + 3*t0*t3*t4^2*t6^2 + 3*t3*t5^3*t6^2 + 4*t4*t5^2*t6^3 + t3^2*t4*t5^2 + t2*t4^2*t5^2 + 2*t3*t4^2*t5*t6 + 3*t4^3*t6^2)"
      ]
     },
     "execution_count": 69,
     "metadata": {},
     "output_type": "execute_result"
    }
   ],
   "source": [
    "P.factor()"
   ]
  },
  {
   "cell_type": "code",
   "execution_count": 70,
   "metadata": {},
   "outputs": [],
   "source": [
    "Q=((-1/288*(42187500*t0^10*t6^2 + 421875000*t0^9*t5*t6 - 135548828125*t0^8*t5^2 + 750000*t0^5*t2*t5^2 + 180000*t0^5*t3*t5*t6 - 84375000*t0^5*t4*t6^2 - 87575000*t0^4*t3*t5^2 - 421875000*t0^4*t4*t5*t6 - 2390625000*t0^3*t4*t5^2 - 4032*t2^2*t5^2 - 9856*t3^2*t5^2 - 750000*t2*t4*t5^2 - 180000*t3*t4*t5*t6 + 42187500*t4^2*t6^2)))/t5^4"
   ]
  },
  {
   "cell_type": "code",
   "execution_count": 77,
   "metadata": {},
   "outputs": [
    {
     "data": {
      "text/plain": [
       "(-1171875/8*t0^10*t6^2 - 5859375/4*t0^9*t5*t6 + 135548828125/288*t0^8*t5^2 - 15625/6*t0^5*t2*t5^2 - 625*t0^5*t3*t5*t6 + 1171875/4*t0^5*t4*t6^2 + 10946875/36*t0^4*t3*t5^2 + 5859375/4*t0^4*t4*t5*t6 + 33203125/4*t0^3*t4*t5^2 + 14*t2^2*t5^2 + 308/9*t3^2*t5^2 + 15625/6*t2*t4*t5^2 + 625*t3*t4*t5*t6 - 1171875/8*t4^2*t6^2)/t5^4"
      ]
     },
     "execution_count": 77,
     "metadata": {},
     "output_type": "execute_result"
    }
   ],
   "source": [
    "Q"
   ]
  },
  {
   "cell_type": "code",
   "execution_count": 71,
   "metadata": {},
   "outputs": [],
   "source": [
    "#solve the system of coefficients LHS=RHS\n",
    "def solve_system_of_coefficients(R4Falg,RHS):\n",
    "    res=0 #result\n",
    "    LHS=R4Falg.numerator()*RHS.denominator() #the LHS normalized to the denominator of the RHS\n",
    "    RHS=RHS.numerator()*R4Falg.denominator() #the RHS normalized to the denominator of the LHS\n",
    "    monomialsLHS=LHS.monomials() #list of monomials in the LHS\n",
    "    monomialsRHS=RHS.monomials() #list of monomials in the RHS\n",
    "    for m1 in monomialsLHS:\n",
    "        for m2 in monomialsRHS:\n",
    "            if m1==m2: # if the two monomials are equal, match their coefficients\n",
    "                coeffLHS=LHS.monomial_coefficient(m1)\n",
    "                coeffRHS=RHS.monomial_coefficient(m2)\n",
    "                res+=coeffRHS/coeffLHS*m1/R4Falg.denominator()\n",
    "            else: # otherwise it's 0 and we pass\n",
    "                pass;\n",
    "    return res\n",
    "                "
   ]
  },
  {
   "cell_type": "code",
   "execution_count": 72,
   "metadata": {},
   "outputs": [],
   "source": [
    "res=solve_system_of_coefficients(P,Q)"
   ]
  },
  {
   "cell_type": "code",
   "execution_count": 74,
   "metadata": {},
   "outputs": [
    {
     "data": {
      "text/plain": [
       "2^5 * 3^2 * 5^4"
      ]
     },
     "execution_count": 74,
     "metadata": {},
     "output_type": "execute_result"
    }
   ],
   "source": []
  },
  {
   "cell_type": "code",
   "execution_count": 76,
   "metadata": {},
   "outputs": [
    {
     "data": {
      "text/plain": [
       "(-1/180000) * t5^-3 * (-t0^5 + t4)^-2 * (14062500*t0^10*t6^2 + 210937500*t0^9*t5*t6 - 135548828125*t0^8*t5^2 + 750000*t0^5*t2*t5^2 + 90000*t0^5*t3*t5*t6 - 28125000*t0^5*t4*t6^2 - 87575000*t0^4*t3*t5^2 - 210937500*t0^4*t4*t5*t6 - 2390625000*t0^3*t4*t5^2 - 9856*t3^2*t5^2 - 750000*t2*t4*t5^2 - 90000*t3*t4*t5*t6 + 14062500*t4^2*t6^2)"
      ]
     },
     "execution_count": 76,
     "metadata": {},
     "output_type": "execute_result"
    }
   ],
   "source": [
    "(res/((t4-t0^5)^(2)*t5^(3))).factor()"
   ]
  },
  {
   "cell_type": "code",
   "execution_count": 81,
   "metadata": {
    "scrolled": true
   },
   "outputs": [
    {
     "data": {
      "text/plain": [
       "(-1/180000) * (14062500*t0^10*t6^2 + 210937500*t0^9*t5*t6 - 135548828125*t0^8*t5^2 + 750000*t0^5*t2*t5^2 + 90000*t0^5*t3*t5*t6 - 28125000*t0^5*t4*t6^2 - 87575000*t0^4*t3*t5^2 - 210937500*t0^4*t4*t5*t6 - 2390625000*t0^3*t4*t5^2 - 9856*t3^2*t5^2 - 750000*t2*t4*t5^2 - 90000*t3*t4*t5*t6 + 14062500*t4^2*t6^2)"
      ]
     },
     "execution_count": 81,
     "metadata": {},
     "output_type": "execute_result"
    }
   ],
   "source": [
    "(res).factor() #wrong!"
   ]
  },
  {
   "cell_type": "code",
   "execution_count": 39,
   "metadata": {},
   "outputs": [],
   "source": []
  },
  {
   "cell_type": "code",
   "execution_count": null,
   "metadata": {},
   "outputs": [],
   "source": []
  },
  {
   "cell_type": "code",
   "execution_count": null,
   "metadata": {},
   "outputs": [],
   "source": []
  },
  {
   "cell_type": "code",
   "execution_count": null,
   "metadata": {},
   "outputs": [],
   "source": [
    "#F2 emmanuel scheidegger, reference to match"
   ]
  },
  {
   "cell_type": "code",
   "execution_count": 34,
   "metadata": {
    "scrolled": true
   },
   "outputs": [],
   "source": [
    "F2E=((448*t5^3*t2*t3*t4-60000*t0^5*t6*t2*t5^2*t4+30000*t6*t2*t5^2*t4^2-448*t6*t5^2*t3^2*t4-2825000*t6*t5^2*t0^4*t3*t4+60000*t6^2*t0^5*t5*t3*t4-30000*t6^2*t5*t3*t4^2+937500*t0^15*t6^3-4408515625*t0^12*t5^3-97500000*t6^2*t0^14*t5-2812500*t0^10*t6^3*t4+2812500*t0^5*t6^3*t4^2-937500*t6^3*t4^3+4357421875*t0^7*t4*t5^3+48750000*t0^2*t4^2*t5^3+280000*t0^10*t5^3*t1-1425000*t0^9*t5^3*t2-1400000*t0^8*t5^3*t3+4553828125*t6*t5^2*t0^13-4649453125*t6*t5^2*t0^8*t4+95625000*t6*t5^2*t0^3*t4^2+195000000*t6^2*t0^9*t5*t4-97500000*t6^2*t0^4*t5*t4^2+30000*t0^10*t6*t2*t5^2-560000*t0^5*t5^3*t1*t4+1425000*t0^4*t5^3*t2*t4+280000*t5^3*t1*t4^2-448*t0^5*t5^3*t2*t3+1400000*t0^3*t5^3*t3*t4+448*t6*t5^2*t0^5*t3^2+2825000*t6*t5^2*t0^9*t3-30000*t6^2*t0^10*t5*t3)/2812500000)/((t0^5-t4)^2*t5^3)"
   ]
  },
  {
   "cell_type": "code",
   "execution_count": 82,
   "metadata": {},
   "outputs": [
    {
     "data": {
      "text/plain": [
       "(-1/2812500000) * t5^-3 * (-t0^5 + t4)^-2 * (-219726562500*t0^20*t5^3*t6^2 - 3295898437500*t0^19*t5^4*t6 + 2117950439453125*t0^18*t5^5 - 11718750000*t0^15*t2*t5^5 - 1406250000*t0^15*t3*t5^4*t6 + 878906250000*t0^15*t4*t5^3*t6^2 + 1368359375000*t0^14*t3*t5^5 + 9887695312500*t0^14*t4*t5^4*t6 - 4198547363281250*t0^13*t4*t5^5 - 937500*t0^15*t6^3 + 154000000*t0^10*t3^2*t5^5 + 35156250000*t0^10*t2*t4*t5^5 + 4218750000*t0^10*t3*t4*t5^4*t6 + 97500000*t0^14*t5*t6^2 - 1318359375000*t0^10*t4^2*t5^3*t6^2 - 2736718750000*t0^9*t3*t4*t5^5 - 4553828125*t0^13*t5^2*t6 - 9887695312500*t0^9*t4^2*t5^4*t6 + 4408515625*t0^12*t5^3 + 2043243408203125*t0^8*t4^2*t5^5 - 280000*t0^10*t1*t5^3 - 30000*t0^10*t2*t5^2*t6 + 30000*t0^10*t3*t5*t6^2 + 2812500*t0^10*t4*t6^3 + 1425000*t0^9*t2*t5^3 - 308000000*t0^5*t3^2*t4*t5^5 - 35156250000*t0^5*t2*t4^2*t5^5 - 2825000*t0^9*t3*t5^2*t6 - 4218750000*t0^5*t3*t4^2*t5^4*t6 - 195000000*t0^9*t4*t5*t6^2 + 878906250000*t0^5*t4^3*t5^3*t6^2 + 1400000*t0^8*t3*t5^3 + 1368359375000*t0^4*t3*t4^2*t5^5 + 4649453125*t0^8*t4*t5^2*t6 + 3295898437500*t0^4*t4^3*t5^4*t6 - 4357421875*t0^7*t4*t5^3 + 37353515625000*t0^3*t4^3*t5^5 + 448*t0^5*t2*t3*t5^3 + 560000*t0^5*t1*t4*t5^3 - 448*t0^5*t3^2*t5^2*t6 + 60000*t0^5*t2*t4*t5^2*t6 - 60000*t0^5*t3*t4*t5*t6^2 - 2812500*t0^5*t4^2*t6^3 - 1425000*t0^4*t2*t4*t5^3 + 154000000*t3^2*t4^2*t5^5 + 11718750000*t2*t4^3*t5^5 + 2825000*t0^4*t3*t4*t5^2*t6 + 1406250000*t3*t4^3*t5^4*t6 + 97500000*t0^4*t4^2*t5*t6^2 - 219726562500*t4^4*t5^3*t6^2 - 1400000*t0^3*t3*t4*t5^3 - 95625000*t0^3*t4^2*t5^2*t6 - 48750000*t0^2*t4^2*t5^3 - 448*t2*t3*t4*t5^3 - 280000*t1*t4^2*t5^3 + 448*t3^2*t4*t5^2*t6 - 30000*t2*t4^2*t5^2*t6 + 30000*t3*t4^2*t5*t6^2 + 937500*t4^3*t6^3)"
      ]
     },
     "execution_count": 82,
     "metadata": {},
     "output_type": "execute_result"
    }
   ],
   "source": [
    "(F2E.factor()-(res)).factor()"
   ]
  },
  {
   "cell_type": "code",
   "execution_count": null,
   "metadata": {},
   "outputs": [],
   "source": []
  },
  {
   "cell_type": "code",
   "execution_count": null,
   "metadata": {},
   "outputs": [],
   "source": []
  },
  {
   "cell_type": "code",
   "execution_count": null,
   "metadata": {},
   "outputs": [],
   "source": []
  },
  {
   "cell_type": "code",
   "execution_count": null,
   "metadata": {},
   "outputs": [],
   "source": []
  },
  {
   "cell_type": "code",
   "execution_count": null,
   "metadata": {},
   "outputs": [],
   "source": []
  },
  {
   "cell_type": "code",
   "execution_count": null,
   "metadata": {
    "scrolled": true
   },
   "outputs": [],
   "source": []
  },
  {
   "cell_type": "code",
   "execution_count": null,
   "metadata": {},
   "outputs": [],
   "source": []
  },
  {
   "cell_type": "code",
   "execution_count": null,
   "metadata": {},
   "outputs": [],
   "source": []
  },
  {
   "cell_type": "code",
   "execution_count": null,
   "metadata": {
    "scrolled": true
   },
   "outputs": [],
   "source": []
  },
  {
   "cell_type": "code",
   "execution_count": null,
   "metadata": {},
   "outputs": [],
   "source": []
  },
  {
   "cell_type": "code",
   "execution_count": null,
   "metadata": {},
   "outputs": [],
   "source": []
  },
  {
   "cell_type": "code",
   "execution_count": null,
   "metadata": {},
   "outputs": [],
   "source": []
  },
  {
   "cell_type": "code",
   "execution_count": null,
   "metadata": {},
   "outputs": [],
   "source": []
  },
  {
   "cell_type": "code",
   "execution_count": null,
   "metadata": {},
   "outputs": [],
   "source": []
  },
  {
   "cell_type": "code",
   "execution_count": null,
   "metadata": {},
   "outputs": [],
   "source": []
  },
  {
   "cell_type": "code",
   "execution_count": null,
   "metadata": {},
   "outputs": [],
   "source": []
  },
  {
   "cell_type": "code",
   "execution_count": null,
   "metadata": {},
   "outputs": [],
   "source": []
  }
 ],
 "metadata": {
  "kernelspec": {
   "display_name": "SageMath 9.3",
   "language": "sage",
   "name": "sagemath"
  },
  "language_info": {
   "codemirror_mode": {
    "name": "ipython",
    "version": 3
   },
   "file_extension": ".py",
   "mimetype": "text/x-python",
   "name": "python",
   "nbconvert_exporter": "python",
   "pygments_lexer": "ipython3",
   "version": "3.7.10"
  }
 },
 "nbformat": 4,
 "nbformat_minor": 4
}
