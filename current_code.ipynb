{
 "cells": [
  {
   "cell_type": "code",
   "execution_count": null,
   "metadata": {},
   "outputs": [],
   "source": []
  },
  {
   "cell_type": "code",
   "execution_count": 1,
   "metadata": {},
   "outputs": [],
   "source": [
    "R.<t0,t1,t2,t3,t4,t5,t6,x>=QQ[]\n",
    "F=R.fraction_field()"
   ]
  },
  {
   "cell_type": "code",
   "execution_count": 2,
   "metadata": {},
   "outputs": [],
   "source": [
    "def R4(Fg):\n",
    "    return (625*t0^5-625*t4)/t5*diff(Fg,t6)"
   ]
  },
  {
   "cell_type": "code",
   "execution_count": null,
   "metadata": {},
   "outputs": [],
   "source": []
  },
  {
   "cell_type": "code",
   "execution_count": 3,
   "metadata": {},
   "outputs": [],
   "source": [
    "def R0(Fg):\n",
    "    return (3750*t0^5+t0*t3-625*t4)/t5*diff(Fg,t0)-(390625*t0^6-3125*t0^4*t1-390625*t0*t4-t1*t3)/t5*diff(Fg,t1)-(5859375*t0^7+625*t0^5*t1-6250*t0^4*t2-5859375*t0^2*t4-625*t1*t4-2*t2*t3)/t5*diff(Fg,t2)-(9765625*t0^8+625*t0^5*t2-9375*t0^4*t3-9765625*t0^3*t4-625*t2*t4-3*t2^2)/t5*diff(Fg,t3)+(15625*t0^4*t4+5*t3*t4)/t5*diff(Fg,t4)-(625*t0^5*t6-9375*t0^4*t5-2*t3*t5-625*t4*t6)/t5*diff(Fg,t5)+(9375*t0^4*t6-3125*t0^3*t5-2*t2*t5+3*t3*t6)/t5*diff(Fg,t6)"
   ]
  },
  {
   "cell_type": "code",
   "execution_count": 4,
   "metadata": {
    "scrolled": true
   },
   "outputs": [],
   "source": [
    "def F1alg_data():\n",
    "    R0F1alg=-1/12*(3750*t0^5*t6 - 353125*t0^4*t5 - 112*t3*t5 - 3750*t4*t6)/t5^2\n",
    "    R02F1alg=-1/12*(4687500*t0^10*t6^2 - 185546875*t0^9*t5*t6 - 904296875*t0^8*t5^2 + 62500*t0^5*t2*t5^2 - 55000*t0^5*t3*t5*t6 - 9375000*t0^5*t4*t6^2 - 706250*t0^4*t3*t5^2 + 185546875*t0^4*t4*t5*t6 - 199218750*t0^3*t4*t5^2 - 336*t2^2*t5^2 + 224*t3^2*t5^2 - 62500*t2*t4*t5^2 + 55000*t3*t4*t5*t6 + 4687500*t4^2*t6^2)/t5^4\n",
    "    return R0F1alg,R02F1alg"
   ]
  },
  {
   "cell_type": "code",
   "execution_count": 5,
   "metadata": {},
   "outputs": [],
   "source": [
    "# is R_0^2 refering to R0(R0(Falg)) or to something else ? "
   ]
  },
  {
   "cell_type": "code",
   "execution_count": 6,
   "metadata": {},
   "outputs": [],
   "source": [
    "R0F1alg,R02F1alg=F1alg_data()"
   ]
  },
  {
   "cell_type": "code",
   "execution_count": 7,
   "metadata": {},
   "outputs": [
    {
     "data": {
      "text/plain": [
       "(1/12) * t5^-2 * (-3750*t0^5*t6 + 353125*t0^4*t5 + 112*t3*t5 + 3750*t4*t6)"
      ]
     },
     "execution_count": 7,
     "metadata": {},
     "output_type": "execute_result"
    }
   ],
   "source": [
    "R0F1alg.factor()"
   ]
  },
  {
   "cell_type": "code",
   "execution_count": null,
   "metadata": {},
   "outputs": [],
   "source": []
  },
  {
   "cell_type": "code",
   "execution_count": 8,
   "metadata": {},
   "outputs": [],
   "source": [
    "resF1=(1/2*(R0F1alg^2+R0(R0F1alg))).factor()"
   ]
  },
  {
   "cell_type": "code",
   "execution_count": 9,
   "metadata": {
    "scrolled": true
   },
   "outputs": [
    {
     "data": {
      "text/plain": [
       "(-1/288) * t5^-4 * (42187500*t0^10*t6^2 + 421875000*t0^9*t5*t6 - 135548828125*t0^8*t5^2 + 750000*t0^5*t2*t5^2 + 180000*t0^5*t3*t5*t6 - 84375000*t0^5*t4*t6^2 - 87575000*t0^4*t3*t5^2 - 421875000*t0^4*t4*t5*t6 - 2390625000*t0^3*t4*t5^2 - 4032*t2^2*t5^2 - 9856*t3^2*t5^2 - 750000*t2*t4*t5^2 - 180000*t3*t4*t5*t6 + 42187500*t4^2*t6^2)"
      ]
     },
     "execution_count": 9,
     "metadata": {},
     "output_type": "execute_result"
    }
   ],
   "source": [
    "resF1"
   ]
  },
  {
   "cell_type": "code",
   "execution_count": 10,
   "metadata": {},
   "outputs": [],
   "source": [
    "#notice the weird result : no factor of (t4-t0^5) in the denominator"
   ]
  },
  {
   "cell_type": "code",
   "execution_count": 59,
   "metadata": {},
   "outputs": [],
   "source": [
    "def generate_polynomial(g):\n",
    "    result=0\n",
    "    d0=3\n",
    "    d1=6\n",
    "    d2=9\n",
    "    d3=12\n",
    "    d4=15\n",
    "    d5=11\n",
    "    d6=8\n",
    "    total_degree=69*(g-1)\n",
    "    for i0 in range(0,ceil(total_degree/d0)):\n",
    "        for i1 in range(0,ceil(total_degree/d1)):\n",
    "            for i2 in range(0,ceil(total_degree/d2)):\n",
    "                for i3 in range(0,ceil(total_degree/d3)):\n",
    "                    for i4 in range(0,ceil(total_degree/d4)):\n",
    "                        for i5 in range(0,ceil(total_degree/d5)):\n",
    "                            for i6 in range(0,ceil(total_degree/d6)):\n",
    "                                if (d0*i0+d1*i1+d2*i2+d3*i3+d4*i4+d5*i5+d6*i6)==(total_degree):\n",
    "                                        result+=t0^i0*t1^i1*t2^i2*t3^i3*t4^i4*t5^i5*t6^i6/((t4-t0^5)^(2*g-2)*t5^(3*g-3))\n",
    "                    \n",
    "    return result\n",
    "                                "
   ]
  },
  {
   "cell_type": "code",
   "execution_count": 60,
   "metadata": {},
   "outputs": [],
   "source": [
    "def right_hand_side(Falg,g):\n",
    "    rhs=0\n",
    "    summ=0\n",
    "    for r in range(0,g-1):\n",
    "        summ+=R0(Falg[r])*R0(Falg[:-r])\n",
    "    rhs=summ+R0(R0(Falg[-1]))\n",
    "    return rhs"
   ]
  },
  {
   "cell_type": "code",
   "execution_count": 61,
   "metadata": {},
   "outputs": [],
   "source": [
    "F2non_sorted=generate_polynomial(2)"
   ]
  },
  {
   "cell_type": "code",
   "execution_count": null,
   "metadata": {},
   "outputs": [],
   "source": []
  },
  {
   "cell_type": "code",
   "execution_count": 57,
   "metadata": {},
   "outputs": [],
   "source": [
    "P=R4(F2non_sorted)"
   ]
  },
  {
   "cell_type": "code",
   "execution_count": 58,
   "metadata": {
    "scrolled": true
   },
   "outputs": [
    {
     "data": {
      "text/plain": [
       "(-625) * t5^-1 * (-t0^5 + t4) * (3*t0^15*t6^2 + 2*t0^14*t5*t6 + 3*t0^13*t1*t6^2 + t0^13*t5^2 + 2*t0^12*t1*t5*t6 + 3*t0^11*t1^2*t6^2 + 3*t0^12*t2*t6^2 + t0^11*t1*t5^2 + 2*t0^10*t1^2*t5*t6 + 2*t0^11*t2*t5*t6 + 3*t0^9*t1^3*t6^2 + 3*t0^10*t1*t2*t6^2 + 3*t0^11*t3*t6^2 + t0^9*t1^2*t5^2 + t0^10*t2*t5^2 + 2*t0^8*t1^3*t5*t6 + 2*t0^9*t1*t2*t5*t6 + 2*t0^10*t3*t5*t6 + 3*t0^7*t1^4*t6^2 + 3*t0^8*t1^2*t2*t6^2 + 3*t0^9*t2^2*t6^2 + 3*t0^9*t1*t3*t6^2 + 3*t0^10*t4*t6^2 + t0^7*t1^3*t5^2 + t0^8*t1*t2*t5^2 + t0^9*t3*t5^2 + 2*t0^6*t1^4*t5*t6 + 2*t0^7*t1^2*t2*t5*t6 + 2*t0^8*t2^2*t5*t6 + 2*t0^8*t1*t3*t5*t6 + 2*t0^9*t4*t5*t6 + 3*t0^5*t1^5*t6^2 + 3*t0^6*t1^3*t2*t6^2 + 3*t0^7*t1*t2^2*t6^2 + 3*t0^7*t1^2*t3*t6^2 + 3*t0^8*t2*t3*t6^2 + 3*t0^8*t1*t4*t6^2 + 6*t0^7*t6^5 + t0^5*t1^4*t5^2 + t0^6*t1^2*t2*t5^2 + t0^7*t2^2*t5^2 + t0^7*t1*t3*t5^2 + t0^8*t4*t5^2 + 2*t0^4*t1^5*t5*t6 + 2*t0^5*t1^3*t2*t5*t6 + 2*t0^6*t1*t2^2*t5*t6 + 2*t0^6*t1^2*t3*t5*t6 + 2*t0^7*t2*t3*t5*t6 + 2*t0^7*t1*t4*t5*t6 + 3*t0^3*t1^6*t6^2 + 3*t0^4*t1^4*t2*t6^2 + 3*t0^5*t1^2*t2^2*t6^2 + 3*t0^6*t2^3*t6^2 + 3*t0^5*t1^3*t3*t6^2 + 3*t0^6*t1*t2*t3*t6^2 + 3*t0^7*t3^2*t6^2 + 3*t0^6*t1^2*t4*t6^2 + 3*t0^7*t2*t4*t6^2 + 5*t0^6*t5*t6^4 + 6*t0^5*t1*t6^5 + t0^3*t1^5*t5^2 + t0^4*t1^3*t2*t5^2 + t0^5*t1*t2^2*t5^2 + t0^5*t1^2*t3*t5^2 + t0^6*t2*t3*t5^2 + t0^6*t1*t4*t5^2 + 2*t0^2*t1^6*t5*t6 + 2*t0^3*t1^4*t2*t5*t6 + 2*t0^4*t1^2*t2^2*t5*t6 + 2*t0^5*t2^3*t5*t6 + 2*t0^4*t1^3*t3*t5*t6 + 2*t0^5*t1*t2*t3*t5*t6 + 2*t0^6*t3^2*t5*t6 + 2*t0^5*t1^2*t4*t5*t6 + 2*t0^6*t2*t4*t5*t6 + 3*t0*t1^7*t6^2 + 3*t0^2*t1^5*t2*t6^2 + 3*t0^3*t1^3*t2^2*t6^2 + 3*t0^4*t1*t2^3*t6^2 + 3*t0^3*t1^4*t3*t6^2 + 3*t0^4*t1^2*t2*t3*t6^2 + 3*t0^5*t2^2*t3*t6^2 + 3*t0^5*t1*t3^2*t6^2 + 3*t0^4*t1^3*t4*t6^2 + 3*t0^5*t1*t2*t4*t6^2 + 3*t0^6*t3*t4*t6^2 + 4*t0^5*t5^2*t6^3 + 5*t0^4*t1*t5*t6^4 + 6*t0^3*t1^2*t6^5 + 6*t0^4*t2*t6^5 + t0*t1^6*t5^2 + t0^2*t1^4*t2*t5^2 + t0^3*t1^2*t2^2*t5^2 + t0^4*t2^3*t5^2 + t0^3*t1^3*t3*t5^2 + t0^4*t1*t2*t3*t5^2 + t0^5*t3^2*t5^2 + t0^4*t1^2*t4*t5^2 + t0^5*t2*t4*t5^2 + 2*t1^7*t5*t6 + 2*t0*t1^5*t2*t5*t6 + 2*t0^2*t1^3*t2^2*t5*t6 + 2*t0^3*t1*t2^3*t5*t6 + 2*t0^2*t1^4*t3*t5*t6 + 2*t0^3*t1^2*t2*t3*t5*t6 + 2*t0^4*t2^2*t3*t5*t6 + 2*t0^4*t1*t3^2*t5*t6 + 2*t0^3*t1^3*t4*t5*t6 + 2*t0^4*t1*t2*t4*t5*t6 + 2*t0^5*t3*t4*t5*t6 + 3*t1^6*t2*t6^2 + 3*t0*t1^4*t2^2*t6^2 + 3*t0^2*t1^2*t2^3*t6^2 + 3*t0^3*t2^4*t6^2 + 3*t0*t1^5*t3*t6^2 + 3*t0^2*t1^3*t2*t3*t6^2 + 3*t0^3*t1*t2^2*t3*t6^2 + 3*t0^3*t1^2*t3^2*t6^2 + 3*t0^4*t2*t3^2*t6^2 + 3*t0^2*t1^4*t4*t6^2 + 3*t0^3*t1^2*t2*t4*t6^2 + 3*t0^4*t2^2*t4*t6^2 + 3*t0^4*t1*t3*t4*t6^2 + 3*t0^5*t4^2*t6^2 + 3*t0^4*t5^3*t6^2 + 4*t0^3*t1*t5^2*t6^3 + 5*t0^2*t1^2*t5*t6^4 + 5*t0^3*t2*t5*t6^4 + 6*t0*t1^3*t6^5 + 6*t0^2*t1*t2*t6^5 + 6*t0^3*t3*t6^5 + t1^5*t2*t5^2 + t0*t1^3*t2^2*t5^2 + t0^2*t1*t2^3*t5^2 + t0*t1^4*t3*t5^2 + t0^2*t1^2*t2*t3*t5^2 + t0^3*t2^2*t3*t5^2 + t0^3*t1*t3^2*t5^2 + t0^2*t1^3*t4*t5^2 + t0^3*t1*t2*t4*t5^2 + t0^4*t3*t4*t5^2 + 2*t1^4*t2^2*t5*t6 + 2*t0*t1^2*t2^3*t5*t6 + 2*t0^2*t2^4*t5*t6 + 2*t1^5*t3*t5*t6 + 2*t0*t1^3*t2*t3*t5*t6 + 2*t0^2*t1*t2^2*t3*t5*t6 + 2*t0^2*t1^2*t3^2*t5*t6 + 2*t0^3*t2*t3^2*t5*t6 + 2*t0*t1^4*t4*t5*t6 + 2*t0^2*t1^2*t2*t4*t5*t6 + 2*t0^3*t2^2*t4*t5*t6 + 2*t0^3*t1*t3*t4*t5*t6 + 2*t0^4*t4^2*t5*t6 + 2*t0^3*t5^4*t6 + 3*t1^3*t2^3*t6^2 + 3*t0*t1*t2^4*t6^2 + 3*t1^4*t2*t3*t6^2 + 3*t0*t1^2*t2^2*t3*t6^2 + 3*t0^2*t2^3*t3*t6^2 + 3*t0*t1^3*t3^2*t6^2 + 3*t0^2*t1*t2*t3^2*t6^2 + 3*t0^3*t3^3*t6^2 + 3*t1^5*t4*t6^2 + 3*t0*t1^3*t2*t4*t6^2 + 3*t0^2*t1*t2^2*t4*t6^2 + 3*t0^2*t1^2*t3*t4*t6^2 + 3*t0^3*t2*t3*t4*t6^2 + 3*t0^3*t1*t4^2*t6^2 + 3*t0^2*t1*t5^3*t6^2 + 4*t0*t1^2*t5^2*t6^3 + 4*t0^2*t2*t5^2*t6^3 + 5*t1^3*t5*t6^4 + 5*t0*t1*t2*t5*t6^4 + 5*t0^2*t3*t5*t6^4 + 6*t1^2*t2*t6^5 + 6*t0*t2^2*t6^5 + 6*t0*t1*t3*t6^5 + 6*t0^2*t4*t6^5 + t1^2*t2^3*t5^2 + t0*t2^4*t5^2 + t1^3*t2*t3*t5^2 + t0*t1*t2^2*t3*t5^2 + t0*t1^2*t3^2*t5^2 + t0^2*t2*t3^2*t5^2 + t1^4*t4*t5^2 + t0*t1^2*t2*t4*t5^2 + t0^2*t2^2*t4*t5^2 + t0^2*t1*t3*t4*t5^2 + t0^3*t4^2*t5^2 + t0^2*t5^5 + 2*t1*t2^4*t5*t6 + 2*t1^2*t2^2*t3*t5*t6 + 2*t0*t2^3*t3*t5*t6 + 2*t1^3*t3^2*t5*t6 + 2*t0*t1*t2*t3^2*t5*t6 + 2*t0^2*t3^3*t5*t6 + 2*t1^3*t2*t4*t5*t6 + 2*t0*t1*t2^2*t4*t5*t6 + 2*t0*t1^2*t3*t4*t5*t6 + 2*t0^2*t2*t3*t4*t5*t6 + 2*t0^2*t1*t4^2*t5*t6 + 2*t0*t1*t5^4*t6 + 3*t2^5*t6^2 + 3*t1*t2^3*t3*t6^2 + 3*t1^2*t2*t3^2*t6^2 + 3*t0*t2^2*t3^2*t6^2 + 3*t0*t1*t3^3*t6^2 + 3*t1^2*t2^2*t4*t6^2 + 3*t0*t2^3*t4*t6^2 + 3*t1^3*t3*t4*t6^2 + 3*t0*t1*t2*t3*t4*t6^2 + 3*t0^2*t3^2*t4*t6^2 + 3*t0*t1^2*t4^2*t6^2 + 3*t0^2*t2*t4^2*t6^2 + 3*t1^2*t5^3*t6^2 + 3*t0*t2*t5^3*t6^2 + 4*t1*t2*t5^2*t6^3 + 4*t0*t3*t5^2*t6^3 + 5*t2^2*t5*t6^4 + 5*t1*t3*t5*t6^4 + 5*t0*t4*t5*t6^4 + 6*t2*t3*t6^5 + 6*t1*t4*t6^5 + t2^3*t3*t5^2 + t1*t2*t3^2*t5^2 + t0*t3^3*t5^2 + t1*t2^2*t4*t5^2 + t1^2*t3*t4*t5^2 + t0*t2*t3*t4*t5^2 + t0*t1*t4^2*t5^2 + t1*t5^5 + 2*t2^2*t3^2*t5*t6 + 2*t1*t3^3*t5*t6 + 2*t2^3*t4*t5*t6 + 2*t1*t2*t3*t4*t5*t6 + 2*t0*t3^2*t4*t5*t6 + 2*t1^2*t4^2*t5*t6 + 2*t0*t2*t4^2*t5*t6 + 2*t2*t5^4*t6 + 3*t2*t3^3*t6^2 + 3*t2^2*t3*t4*t6^2 + 3*t1*t3^2*t4*t6^2 + 3*t1*t2*t4^2*t6^2 + 3*t0*t3*t4^2*t6^2 + 3*t3*t5^3*t6^2 + 4*t4*t5^2*t6^3 + t3^2*t4*t5^2 + t2*t4^2*t5^2 + 2*t3*t4^2*t5*t6 + 3*t4^3*t6^2)"
      ]
     },
     "execution_count": 58,
     "metadata": {},
     "output_type": "execute_result"
    }
   ],
   "source": [
    "P.factor()"
   ]
  },
  {
   "cell_type": "code",
   "execution_count": 29,
   "metadata": {},
   "outputs": [],
   "source": [
    "Q=((-1/288*(42187500*t0^10*t6^2 + 421875000*t0^9*t5*t6 - 135548828125*t0^8*t5^2 + 750000*t0^5*t2*t5^2 + 180000*t0^5*t3*t5*t6 - 84375000*t0^5*t4*t6^2 - 87575000*t0^4*t3*t5^2 - 421875000*t0^4*t4*t5*t6 - 2390625000*t0^3*t4*t5^2 - 4032*t2^2*t5^2 - 9856*t3^2*t5^2 - 750000*t2*t4*t5^2 - 180000*t3*t4*t5*t6 + 42187500*t4^2*t6^2)))/t5^4"
   ]
  },
  {
   "cell_type": "code",
   "execution_count": null,
   "metadata": {},
   "outputs": [],
   "source": []
  },
  {
   "cell_type": "code",
   "execution_count": 51,
   "metadata": {},
   "outputs": [],
   "source": [
    "def solve_system_of_coefficients(R4Falg,RHS):\n",
    "    res=0\n",
    "    LHS=R4Falg.numerator()*RHS.denominator()\n",
    "    RHS=RHS.numerator()*R4Falg.denominator()\n",
    "    monomialsLHS=LHS.monomials()\n",
    "    monomialsRHS=RHS.monomials()\n",
    "    for m1 in monomialsLHS:\n",
    "        for m2 in monomialsRHS:\n",
    "            if m1==m2:\n",
    "                coeffLHS=LHS.monomial_coefficient(m1)\n",
    "                coeffRHS=RHS.monomial_coefficient(m2)\n",
    "                res+=coeffRHS/coeffLHS*m1/R4Falg.denominator()\n",
    "            else:\n",
    "                pass;\n",
    "    return res\n",
    "                "
   ]
  },
  {
   "cell_type": "code",
   "execution_count": 52,
   "metadata": {},
   "outputs": [],
   "source": [
    "res=solve_system_of_coefficients(P,Q)"
   ]
  },
  {
   "cell_type": "code",
   "execution_count": 53,
   "metadata": {},
   "outputs": [
    {
     "data": {
      "text/plain": [
       "(-1/180000) * (14062500*t0^10*t6^2 + 210937500*t0^9*t5*t6 - 135548828125*t0^8*t5^2 + 750000*t0^5*t2*t5^2 + 90000*t0^5*t3*t5*t6 - 28125000*t0^5*t4*t6^2 - 87575000*t0^4*t3*t5^2 - 210937500*t0^4*t4*t5*t6 - 2390625000*t0^3*t4*t5^2 - 9856*t3^2*t5^2 - 750000*t2*t4*t5^2 - 90000*t3*t4*t5*t6 + 14062500*t4^2*t6^2)"
      ]
     },
     "execution_count": 53,
     "metadata": {},
     "output_type": "execute_result"
    }
   ],
   "source": [
    "res.factor()"
   ]
  },
  {
   "cell_type": "code",
   "execution_count": 47,
   "metadata": {},
   "outputs": [
    {
     "data": {
      "text/plain": [
       "(15625/48*t0^12*t5^6 + 203125/288*t0^8*t4*t5^5*t6 - 71875/288*t0^7*t4*t5^6 - 625/2304*t0^10*t4^2*t6^2 - 3125/768*t0^9*t4^2*t5*t6 + 216878125/82944*t0^8*t4^2*t5^2 - 125/36*t0^4*t2*t4*t5^6 + 125/36*t0^4*t3*t4*t5^5*t6 + 3125/6*t0^4*t4^2*t5^4*t6^2 - 3125/12*t0^3*t4^2*t5^5*t6 - 25/1728*t0^5*t2*t4^2*t5^2 - 40625/6*t0^2*t4^2*t5^6 - 1/576*t0^5*t3*t4^2*t5*t6 + 625/1152*t0^5*t4^3*t6^2 + 17515/10368*t0^4*t3*t4^2*t5^2 - 14/225*t2*t3*t4*t5^6 - 350/9*t1*t4^2*t5^6 + 3125/768*t0^4*t4^3*t5*t6 + 14/225*t3^2*t4*t5^5*t6 - 25/6*t2*t4^2*t5^5*t6 + 25/6*t3*t4^2*t5^4*t6^2 + 3125/24*t4^3*t5^3*t6^3 + 53125/1152*t0^3*t4^3*t5^2 + 77/405000*t3^2*t4^2*t5^2 + 25/1728*t2*t4^3*t5^2 + 1/576*t3*t4^3*t5*t6 - 625/2304*t4^4*t6^2)/t4^2"
      ]
     },
     "execution_count": 47,
     "metadata": {},
     "output_type": "execute_result"
    }
   ],
   "source": [
    "(res).factor()-F2alg #wrong!"
   ]
  },
  {
   "cell_type": "code",
   "execution_count": 39,
   "metadata": {},
   "outputs": [],
   "source": [
    "F2alg=(-15625/48*t0^12*t5^3-203125/288*t0^8*t4*t5^2*t6+71875/288*t0^7*t4*t5^3+125/36*t0^4*t2*t4*t5^3-125/36*t0^4*t3*t4*t5^2*t6-3125/6*t0^4*t4^2*t5*t6^2+3125/12*t0^3*t4^2*t5^2*t6+40625/6*t0^2*t4^2*t5^3+350/9*t1*t4^2*t5^3+14/225*t2*t3*t4*t5^3+25/6*t2*t4^2*t5^2*t6-14/225*t3^2*t4*t5^2*t6-25/6*t3*t4^2*t5*t6^2-3125/24*t4^3*t6^3)/t4^2*t5^3"
   ]
  },
  {
   "cell_type": "code",
   "execution_count": 43,
   "metadata": {},
   "outputs": [
    {
     "data": {
      "text/plain": [
       "(-1/7200) * t4^-2 * t5^3 * (2343750*t0^12*t5^3 + 5078125*t0^8*t4*t5^2*t6 - 1796875*t0^7*t4*t5^3 - 25000*t0^4*t2*t4*t5^3 + 25000*t0^4*t3*t4*t5^2*t6 + 3750000*t0^4*t4^2*t5*t6^2 - 1875000*t0^3*t4^2*t5^2*t6 - 48750000*t0^2*t4^2*t5^3 - 448*t2*t3*t4*t5^3 - 280000*t1*t4^2*t5^3 + 448*t3^2*t4*t5^2*t6 - 30000*t2*t4^2*t5^2*t6 + 30000*t3*t4^2*t5*t6^2 + 937500*t4^3*t6^3)"
      ]
     },
     "execution_count": 43,
     "metadata": {},
     "output_type": "execute_result"
    }
   ],
   "source": [
    "F2alg.factor()"
   ]
  },
  {
   "cell_type": "code",
   "execution_count": null,
   "metadata": {},
   "outputs": [],
   "source": []
  },
  {
   "cell_type": "code",
   "execution_count": null,
   "metadata": {},
   "outputs": [],
   "source": []
  },
  {
   "cell_type": "code",
   "execution_count": null,
   "metadata": {},
   "outputs": [],
   "source": []
  },
  {
   "cell_type": "code",
   "execution_count": null,
   "metadata": {},
   "outputs": [],
   "source": []
  },
  {
   "cell_type": "code",
   "execution_count": null,
   "metadata": {},
   "outputs": [],
   "source": []
  },
  {
   "cell_type": "code",
   "execution_count": null,
   "metadata": {},
   "outputs": [],
   "source": []
  },
  {
   "cell_type": "code",
   "execution_count": null,
   "metadata": {},
   "outputs": [],
   "source": []
  },
  {
   "cell_type": "code",
   "execution_count": null,
   "metadata": {
    "scrolled": true
   },
   "outputs": [],
   "source": []
  },
  {
   "cell_type": "code",
   "execution_count": null,
   "metadata": {},
   "outputs": [],
   "source": []
  },
  {
   "cell_type": "code",
   "execution_count": null,
   "metadata": {},
   "outputs": [],
   "source": []
  },
  {
   "cell_type": "code",
   "execution_count": null,
   "metadata": {
    "scrolled": true
   },
   "outputs": [],
   "source": []
  },
  {
   "cell_type": "code",
   "execution_count": null,
   "metadata": {},
   "outputs": [],
   "source": []
  },
  {
   "cell_type": "code",
   "execution_count": null,
   "metadata": {},
   "outputs": [],
   "source": []
  },
  {
   "cell_type": "code",
   "execution_count": null,
   "metadata": {},
   "outputs": [],
   "source": []
  },
  {
   "cell_type": "code",
   "execution_count": 34,
   "metadata": {
    "scrolled": true
   },
   "outputs": [],
   "source": [
    "F2E=((448*t5^3*t2*t3*t4-60000*t0^5*t6*t2*t5^2*t4+30000*t6*t2*t5^2*t4^2-448*t6*t5^2*t3^2*t4-2825000*t6*t5^2*t0^4*t3*t4+60000*t6^2*t0^5*t5*t3*t4-30000*t6^2*t5*t3*t4^2+937500*t0^15*t6^3-4408515625*t0^12*t5^3-97500000*t6^2*t0^14*t5-2812500*t0^10*t6^3*t4+2812500*t0^5*t6^3*t4^2-937500*t6^3*t4^3+4357421875*t0^7*t4*t5^3+48750000*t0^2*t4^2*t5^3+280000*t0^10*t5^3*t1-1425000*t0^9*t5^3*t2-1400000*t0^8*t5^3*t3+4553828125*t6*t5^2*t0^13-4649453125*t6*t5^2*t0^8*t4+95625000*t6*t5^2*t0^3*t4^2+195000000*t6^2*t0^9*t5*t4-97500000*t6^2*t0^4*t5*t4^2+30000*t0^10*t6*t2*t5^2-560000*t0^5*t5^3*t1*t4+1425000*t0^4*t5^3*t2*t4+280000*t5^3*t1*t4^2-448*t0^5*t5^3*t2*t3+1400000*t0^3*t5^3*t3*t4+448*t6*t5^2*t0^5*t3^2+2825000*t6*t5^2*t0^9*t3-30000*t6^2*t0^10*t5*t3)/2812500000)/((t0^5-t4)^2*t5^3)"
   ]
  },
  {
   "cell_type": "code",
   "execution_count": 35,
   "metadata": {},
   "outputs": [
    {
     "data": {
      "text/plain": [
       "(-1/2812500000) * t5^-3 * (-t0^5 + t4)^-2 * (-937500*t0^15*t6^3 + 97500000*t0^14*t5*t6^2 - 4553828125*t0^13*t5^2*t6 + 4408515625*t0^12*t5^3 - 280000*t0^10*t1*t5^3 - 30000*t0^10*t2*t5^2*t6 + 30000*t0^10*t3*t5*t6^2 + 2812500*t0^10*t4*t6^3 + 1425000*t0^9*t2*t5^3 - 2825000*t0^9*t3*t5^2*t6 - 195000000*t0^9*t4*t5*t6^2 + 1400000*t0^8*t3*t5^3 + 4649453125*t0^8*t4*t5^2*t6 - 4357421875*t0^7*t4*t5^3 + 448*t0^5*t2*t3*t5^3 + 560000*t0^5*t1*t4*t5^3 - 448*t0^5*t3^2*t5^2*t6 + 60000*t0^5*t2*t4*t5^2*t6 - 60000*t0^5*t3*t4*t5*t6^2 - 2812500*t0^5*t4^2*t6^3 - 1425000*t0^4*t2*t4*t5^3 + 2825000*t0^4*t3*t4*t5^2*t6 + 97500000*t0^4*t4^2*t5*t6^2 - 1400000*t0^3*t3*t4*t5^3 - 95625000*t0^3*t4^2*t5^2*t6 - 48750000*t0^2*t4^2*t5^3 - 448*t2*t3*t4*t5^3 - 280000*t1*t4^2*t5^3 + 448*t3^2*t4*t5^2*t6 - 30000*t2*t4^2*t5^2*t6 + 30000*t3*t4^2*t5*t6^2 + 937500*t4^3*t6^3)"
      ]
     },
     "execution_count": 35,
     "metadata": {},
     "output_type": "execute_result"
    }
   ],
   "source": [
    "F2E.factor()"
   ]
  },
  {
   "cell_type": "code",
   "execution_count": null,
   "metadata": {},
   "outputs": [],
   "source": []
  },
  {
   "cell_type": "code",
   "execution_count": null,
   "metadata": {},
   "outputs": [],
   "source": []
  },
  {
   "cell_type": "code",
   "execution_count": null,
   "metadata": {},
   "outputs": [],
   "source": []
  },
  {
   "cell_type": "code",
   "execution_count": null,
   "metadata": {},
   "outputs": [],
   "source": []
  }
 ],
 "metadata": {
  "kernelspec": {
   "display_name": "SageMath 9.3",
   "language": "sage",
   "name": "sagemath"
  },
  "language_info": {
   "codemirror_mode": {
    "name": "ipython",
    "version": 3
   },
   "file_extension": ".py",
   "mimetype": "text/x-python",
   "name": "python",
   "nbconvert_exporter": "python",
   "pygments_lexer": "ipython3",
   "version": "3.7.10"
  }
 },
 "nbformat": 4,
 "nbformat_minor": 4
}
